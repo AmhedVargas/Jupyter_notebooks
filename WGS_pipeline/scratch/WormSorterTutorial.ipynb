{
 "cells": [
  {
   "cell_type": "raw",
   "id": "cb0c124a",
   "metadata": {},
   "source": [
    "---\n",
    "title: \"WormSorter Tutorial\"\n",
    "author: \"Khlifa Alnaim\"\n",
    "date: \"5/8/2021\"\n",
    "output:\n",
    "  html_document:\n",
    "    toc: yes\n",
    "    toc_depth: 3\n",
    "    number_sections: yes\n",
    "    theme: united\n",
    "    highlight: tango\n",
    "  pdf_document:\n",
    "    toc: yes\n",
    "    toc_depth: '3'\n",
    "  word_document:\n",
    "    toc: yes\n",
    "    toc_depth: '3'\n",
    "---"
   ]
  },
  {
   "cell_type": "code",
   "execution_count": null,
   "id": "d444fdc3",
   "metadata": {
    "name": "setup",
    "tags": [
     "remove_cell"
    ]
   },
   "outputs": [],
   "source": [
    "knitr::opts_chunk$set(echo = TRUE)"
   ]
  },
  {
   "cell_type": "markdown",
   "id": "0c96b5b2",
   "metadata": {
    "lines_to_next_cell": 0
   },
   "source": [
    "# Introduction \n",
    "\n",
    "The COPAS worm sorter allows fluorescence screening of a large number of worms in a short time. However, the output of machine is hard to interpret. Worms that go in the COPAS sorter can go in straight or turned over themselves. If the worm is turned on itself, that will overlap the florescence expression of its body and will create a different expression pattern in the data compared to a worm that went in straight. The WormSorter package was created to help visualize the objects better. The package allows the user to create their own SVM model to distinguish good worms (Worms that went in straight) from other unwanted objects. In the future, we'll be updating the package so the models created can be used to distinguish different expression patterns in the fluorescence channels. \n",
    "\n",
    "# How to get the package \n",
    "\n",
    "You can access the package's github through this link: https://github.com/ksnksa/WormSorter\n",
    "You can also run this code to directly download the package in Rstudio."
   ]
  },
  {
   "cell_type": "code",
   "execution_count": 1,
   "id": "ce09a8ef",
   "metadata": {
    "eval": false,
    "lines_to_next_cell": 0
   },
   "outputs": [
    {
     "name": "stderr",
     "output_type": "stream",
     "text": [
      "Skipping install of 'WormSorter' from a github remote, the SHA1 (72777216) has not changed since last install.\n",
      "  Use `force = TRUE` to force installation\n",
      "\n"
     ]
    }
   ],
   "source": [
    "devtools::install_github(\"ksnksa/WormSorter/WormSorter\")"
   ]
  },
  {
   "cell_type": "markdown",
   "id": "f87bd688",
   "metadata": {
    "lines_to_next_cell": 0
   },
   "source": [
    "Then you can load the package by simply running"
   ]
  },
  {
   "cell_type": "code",
   "execution_count": 2,
   "id": "71393783",
   "metadata": {
    "eval": false
   },
   "outputs": [],
   "source": [
    "library(\"WormSorter\")"
   ]
  },
  {
   "cell_type": "markdown",
   "id": "42df6879",
   "metadata": {},
   "source": [
    "# What data set to use \n",
    "\n",
    "The COPAS worm sorter outputs more than one file for each run. (NameOfRun)_profile.txt which contains the general information of all the objects and four (NameOfRun)_profile_ch#_prf.txt files (the # goes from 0 to 3) which contain the data from each channel. We’ll only be using the last four files. If you just want to follow this example, the tutorial loads the example files directly from our github repository. \n",
    "\n",
    "# How to get the annotated IDs \n",
    "\n",
    "We also use another csv file that contains annotated objects and their IDs. We'll be using this file to create our model. To create your own annotation, you can go to our [website](https://wormbuilder.dev/WormProfiler/).\n",
    "The website allows you to visualize the object's channel data. \n",
    "\n",
    "![](https://raw.githubusercontent.com/ksnksa/WormSorter/main/WormProfiler.PNG)\n",
    "\n",
    "1: Load the four channel data files then press submit.  2: The output plot of the selected object. 3: Here you can select which object ID you'd like to view. 4: You can check which channel you'd like to be in the plot. 5: The swipe right and swipe left buttons allow you to annotate the objects. Swiping right means annotating this object as a good worm, and swiping left means annotating this object as a bad worm. After annotating any number of objects, a button will pop up to download the annotated IDs. "
   ]
  },
  {
   "cell_type": "markdown",
   "id": "75cf210c",
   "metadata": {},
   "source": [
    "![](https://raw.githubusercontent.com/ksnksa/WormSorter/main/Download.PNG)\n",
    "\n",
    "# Running the pipeline "
   ]
  },
  {
   "cell_type": "code",
   "execution_count": 3,
   "id": "05a8534d",
   "metadata": {
    "message": false,
    "warning": false
   },
   "outputs": [],
   "source": [
    "\n",
    "##Loading the libraries\n",
    "library(e1071)\n",
    "library(ggplot2)\n",
    "library(reshape)\n",
    "library(WormSorter)"
   ]
  },
  {
   "cell_type": "markdown",
   "id": "0ed968a2",
   "metadata": {},
   "source": [
    "## Loading the data \n",
    "\n",
    "In this example, we used a sample data set generated by the [Laboratory of Synthetic Genome Biology](https://syngenbio.kaust.edu.sa/). You can run the following code to use the same data set and annotated IDs files we're using. Ch0D, Ch1D, Ch2D, Ch3D, are the paths for each channel profile. GoodIDD is the path to the annotated IDs csv file."
   ]
  },
  {
   "cell_type": "code",
   "execution_count": 4,
   "id": "bb69b42a",
   "metadata": {
    "lines_to_next_cell": 2
   },
   "outputs": [],
   "source": [
    "#Channel directory taken from the WormSorter github\n",
    "#When using your own data simply change these links to the file directory of the channels. \n",
    "Ch0D <- 'https://raw.githubusercontent.com/ksnksa/WormSorter/main/data/N2/n2_profil_ch0_prf.txt'\n",
    "Ch1D <- 'https://raw.githubusercontent.com/ksnksa/WormSorter/main/data/N2/n2_profil_ch1_prf.txt'\n",
    "Ch2D <- 'https://raw.githubusercontent.com/ksnksa/WormSorter/main/data/N2/n2_profil_ch2_prf.txt'\n",
    "Ch3D <- 'https://raw.githubusercontent.com/ksnksa/WormSorter/main/data/N2/n2_profil_ch3_prf.txt'\n",
    "#CSV file containing the levels (or annotation) for each worm in our training set. \n",
    "GoodIDD <- 'https://raw.githubusercontent.com/ksnksa/WormSorter/main/data/N2/GoodIDsNew.csv'"
   ]
  },
  {
   "cell_type": "markdown",
   "id": "741e6986",
   "metadata": {},
   "source": [
    "## Setting up the parameters \n",
    "\n",
    "The following parameters can be changed to suit the user's needs. MaxAmp, MinLength and MaxLength are parameters that control the initial filtering in this pipeline. MaxAmp is simply the maximum amplitude that an object can have. MinLength and MaxLength determine the minimum and maximum time of flight for each object. The purpose of this filtering, is to remove unwanted bubbles or artifacts. ChannelToCluster determines which channel the pipeline will work with. 1 is for Channel 0, 2 for Channel 1 and so on. Stage determines what worm stage the program will cluster. The package assigns the stage of each worm depending on the time of travel. The thresholds for the time of travel were taken from the COPASutils package (1)."
   ]
  },
  {
   "cell_type": "code",
   "execution_count": 5,
   "id": "55e50988",
   "metadata": {
    "message": false,
    "warning": false
   },
   "outputs": [],
   "source": [
    "#Setting up the parameters we need for the analysis\n",
    "# Max amplitude an object can have \n",
    "# Anything more will be filitered out\n",
    "MaxAmp <- 64000\n",
    "# Minimum and maximum time of flight for each object\n",
    "MinLength <- 40\n",
    "MaxLength <- 500\n",
    "# Which channel the pipeline will work on \n",
    "# 1 is for Channel 0, 2 is for Channel 1 \n",
    "# 3 is for Channel 2, 4 is for Channel 3\n",
    "ChannelToCluster <- 1\n",
    "# Which stage the piepile will work on\n",
    "# 1 is for L1, 2 is for L2/3 \n",
    "# 3 is for L4, 4 is for Adults\n",
    "Stage <- 4"
   ]
  },
  {
   "cell_type": "markdown",
   "id": "e0b02aeb",
   "metadata": {},
   "source": [
    "## Example run \n",
    "\n",
    "### Loading the data\n",
    "\n",
    "First we load up the channel data and apply an initial filter. Then we load up the annotated IDs csv file and create a variable that has the data for the worms that were annotated. "
   ]
  },
  {
   "cell_type": "code",
   "execution_count": 6,
   "id": "2096c9b6",
   "metadata": {
    "message": false,
    "warning": false
   },
   "outputs": [],
   "source": [
    "# The ReadChannel function simply takes in the channel directories and returns a list with all\n",
    "# the channels data.\n",
    "channellist <- ReadChannel(Ch0D,Ch1D,Ch2D,Ch3D)\n",
    "# Then we use the FilterChannel function to filter the data using our parameters. \n",
    "# The resulting index is the index of the objects we don't want. So we remove those indexes\n",
    "# from the channel data. \n",
    "Index <- FilterChannel(channellist[[ChannelToCluster]],MaxAmp,MinLength,MaxLength)\n",
    "channellist[[ChannelToCluster]] <- as.data.frame(channellist[[ChannelToCluster]][-c(Index),])\n",
    "# The AssignStage function will take in the channel data and sorts the worms into four\n",
    "# stages (L1, L2/3, L4, Adult). \n",
    "StageList <- AssignStage(channellist[[ChannelToCluster]])\n",
    "# The CreateTrainingSetIDs function translates the annotated IDs csv \n",
    "# file to the data we have and gives out the index of the worms that are annotated.\n",
    "WormIDs <- CreateTrainingSetIDs(StageList[[Stage]],GoodIDD)"
   ]
  },
  {
   "cell_type": "markdown",
   "id": "4aafd775",
   "metadata": {},
   "source": [
    "Now we need to find out how many annotated worms do we have in the stage we're interested in. "
   ]
  },
  {
   "cell_type": "code",
   "execution_count": null,
   "id": "bc5c314d",
   "metadata": {
    "message": false,
    "warning": false
   },
   "outputs": [],
   "source": [
    "# Let's find how many worms are in our training set\n",
    "# WormCount returns the number of annotated good and bad worms in the stage of interest.  \n",
    "print(WormCount(StageList[[Stage]],WormIDs))"
   ]
  },
  {
   "cell_type": "markdown",
   "id": "fa875ee0",
   "metadata": {},
   "source": [
    "Now we know the maximum number of worms in the training set is 80 annotated good worms and 76 bad worms. \n",
    "\n",
    "### Model testing \n",
    "\n",
    "#### Bootstrap Analysis \n",
    "\n",
    "Our goal is to have a model that has a low number of worms, high accuracy and low standard deviation (meaning it is consistent). One way to test all of that, is to use a bootstrap analysis method. Bootstrapping in this context is simply using random sampling to find the accuracy of our model.\n",
    "NumberOfBadWorms is how many bad worms will be in the training set and it can only be a single number. NumberOfGoodWorms is how many good worms will be in the training set. This variable can be a vector of different numbers. NumberOfRuns determines how many times the bootstrap analysis will run to check the accuracy of the model. "
   ]
  },
  {
   "cell_type": "code",
   "execution_count": null,
   "id": "b5effcee",
   "metadata": {
    "lines_to_next_cell": 2
   },
   "outputs": [],
   "source": [
    "# How many bad worms will be picked to make the training set\n",
    "NumberOfBadWorms  = 30\n",
    "# How many good worms will be picked to make the training set \n",
    "# Can be a vector of different numbers\n",
    "NumbersOfGoodWorms  = c(70,60,50,40,30,20,10)\n",
    "# How many times the bootstrap loop will run \n",
    "NumberOfRuns  = 100"
   ]
  },
  {
   "cell_type": "markdown",
   "id": "53c5abd1",
   "metadata": {},
   "source": [
    "This is the bootstrap loop. Depending on the parameters we set, it will loop a number of times and use random sampling to create a new training and prediction set in each loop. Those sets are annotated so any prediction can be compared to the original annotation to find the accuracy. After the loop is done running, we can take the average accuracy of the models and plot them. \n",
    "\n",
    "You can find how I calculated the accuracy in this [picture](https://raw.githubusercontent.com/ksnksa/WormSorter/main/Confusion-matrix-and-performance-equations-The-confusion-matrix-included-four.png) (2). \n",
    "\n",
    "Feel free to use any other method to find the accuracy of your model. "
   ]
  },
  {
   "cell_type": "code",
   "execution_count": null,
   "id": "0d18f20d",
   "metadata": {
    "message": false,
    "warning": false
   },
   "outputs": [],
   "source": [
    "\n",
    "Accuracy <- data.frame()\n",
    "for (l in 1:length(NumbersOfGoodWorms)) {\n",
    "  for (o in 1:NumberOfRuns) {\n",
    "    SetList<- RandomTrainingSet(StageList[[Stage]],WormIDs,NumbersOfGoodWorms[l],NumberOfBadWorms)\n",
    "    Pred <- GetPrediction(SetList)[[1]]\n",
    "    Positive <- rownames(SetList[[2]][which(Pred==2),])\n",
    "    TP <- sum((Positive %in% WormIDs[[1]]), na.rm = TRUE)\n",
    "    Negative <- rownames(SetList[[2]][which(Pred==1),])\n",
    "    TN <- length(Negative %in% WormIDs[[2]]) - sum((Negative %in% WormIDs[[1]]), na.rm = TRUE)\n",
    "    Accuracy[l,o] <- (TP + TN) / (length(Positive) + length(Negative))\n",
    "  }\n",
    "\n",
    "}\n"
   ]
  },
  {
   "cell_type": "markdown",
   "id": "02c9487f",
   "metadata": {},
   "source": [
    "#### Accuracy Plot \n",
    "\n",
    "We can then view our accuracy plot to gauge how well the model performs. "
   ]
  },
  {
   "cell_type": "code",
   "execution_count": null,
   "id": "7cccdde8",
   "metadata": {},
   "outputs": [],
   "source": [
    "p <- PlotAccuracy(Accuracy, NumbersOfGoodWorms, NumberOfBadWorms)\n",
    "## view the accuracy plot to get a sense of your model's efficiency\n",
    "plot(p)"
   ]
  },
  {
   "cell_type": "markdown",
   "id": "98178697",
   "metadata": {},
   "source": [
    "It looks like the model performs best when the number of good worms and bad worms is 30.  \n",
    "\n",
    "### Clustering data \n",
    "\n",
    "After we created a suitable model, we can test it on another data set. For now, We'll use the sample data set we provided. Note: Since the training set was taken from this data set, there will be a bias with the clustering. This bias can be removed if you remove the training set from the data set.\n",
    "\n",
    "ModelGood and ModelBad are the number of good and bad worms that will be in the model. \n"
   ]
  },
  {
   "cell_type": "code",
   "execution_count": null,
   "id": "6651ef2a",
   "metadata": {
    "message": false,
    "warning": false
   },
   "outputs": [],
   "source": [
    "ModelGood <- 30\n",
    "ModelBad <- 30\n",
    "# RandomTrainingSet creates a training set out of the following parameters: \n",
    "# The channel data, annotated worm IDs and how many good and bad worms will be in the model. \n",
    "SetList<- RandomTrainingSet(StageList[[Stage]],WormIDs,ModelGood,ModelBad)\n",
    "\n",
    "# CreateModel takes in the training set to create a model.\n",
    "model <- CreateModel(SetList[[2]])\n",
    "# RunModel runs the model againts the inputted channel data \n",
    "# and outputs the clustering prediction. \n",
    "# To run the model against another data set, simply change the StageList[[Stage]] variable. \n",
    "Pred <- RunModel(StageList[[Stage]], model)"
   ]
  },
  {
   "cell_type": "markdown",
   "id": "fd01f839",
   "metadata": {},
   "source": [
    "#### Prediction Plots \n",
    "\n",
    "Now we can plot the results of the clustering. "
   ]
  },
  {
   "cell_type": "code",
   "execution_count": null,
   "id": "3b5c261b",
   "metadata": {
    "lines_to_next_cell": 2
   },
   "outputs": [],
   "source": [
    "\n",
    "# PlotPred takes in the prediction and the channel data to output three plots: \n",
    "# A plot with all the worms in the channel data, \n",
    "# a plot with the clustered bad worms and a plot with the clustered good worms. \n",
    "Plots <- PlotPred(Pred, StageList[[Stage]])\n",
    "# To view them we can simply use the plot function\n",
    "# Plot 1: The over all plot of all the worms\n",
    "plot(Plots[[1]])\n"
   ]
  },
  {
   "cell_type": "code",
   "execution_count": null,
   "id": "d4f11940",
   "metadata": {
    "lines_to_next_cell": 2
   },
   "outputs": [],
   "source": [
    "# Plot 2: The bad worms\n",
    "plot(Plots[[2]])\n"
   ]
  },
  {
   "cell_type": "code",
   "execution_count": null,
   "id": "93fc4c6f",
   "metadata": {},
   "outputs": [],
   "source": [
    "# Plot 3: The good worms\n",
    "plot(Plots[[3]])"
   ]
  },
  {
   "cell_type": "markdown",
   "id": "76ba1f29",
   "metadata": {},
   "source": [
    "Overall, we'd like our good worms to look like this plot. A smooth curve is indicative that the worms went in straight in the COPAS sorter.   \n",
    "\n",
    "# References \n",
    "\n",
    "1- Article Source: COPASutils: An R Package for Reading, Processing, and Visualizing Data from COPAS Large-Particle Flow Cytometers\n",
    "Shimko TC, Andersen EC (2014) COPASutils: An R Package for Reading, Processing, and Visualizing Data from COPAS Large-Particle Flow Cytometers. PLOS ONE 9(10): e111090. https://doi.org/10.1371/journal.pone.0111090 \n",
    "\n",
    "2- Niu, Jiajia & An, Guoshuai & Gu, Zhen & Li, Peng & Liu, Qiqing & Bai, Rufeng & Sun, Jun-Hong & Du, Qiu-Xiang. (2020). Analysis of sensitivity and specificity: precise recognition of neutrophils during regeneration of contused skeletal muscle in rats. Forensic Sciences Research. 1-10. 10.1080/20961790.2020.1713432. "
   ]
  }
 ],
 "metadata": {
  "jupytext": {
   "cell_metadata_filter": "name,message,eval,warning,tags,-all",
   "main_language": "R",
   "notebook_metadata_filter": "-all"
  },
  "kernelspec": {
   "display_name": "R",
   "language": "R",
   "name": "ir"
  },
  "language_info": {
   "codemirror_mode": "r",
   "file_extension": ".r",
   "mimetype": "text/x-r-source",
   "name": "R",
   "pygments_lexer": "r",
   "version": "4.0.5"
  }
 },
 "nbformat": 4,
 "nbformat_minor": 5
}
