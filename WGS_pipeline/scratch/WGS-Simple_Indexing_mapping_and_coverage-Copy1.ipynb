{
 "cells": [
  {
   "cell_type": "markdown",
   "metadata": {},
   "source": [
    "# Reference indexing, mapping, and coverage\n",
    "* [Amhed Missael Vargas Velazquez](https://www.researchgate.net/profile/Amhed-Vargas-Velazquez)\n",
    "* Post-doctoral fellow, [SGB lab](https://syngenbio.kaust.edu.sa/), [KAUST](https://www.kaust.edu.sa/en)\n",
    "\n",
    "## Description\n",
    "This jupyter notebook contains commands to identify genomic variants in any polymorphic *C. elegans* strain. The description has been shortened for ease its reading. \n",
    "\n",
    "## Getting started\n",
    "Run the cells below to create a working directory, load the necessary python libraries, and to verify you have the required software."
   ]
  },
  {
   "cell_type": "markdown",
   "metadata": {},
   "source": [
    "### Load python libraries\n",
    "Run the cell below to load essential libraries for the pipeline to work:"
   ]
  },
  {
   "cell_type": "code",
   "execution_count": null,
   "metadata": {},
   "outputs": [],
   "source": [
    "## Load libraries\n",
    "#os to move within directories\n",
    "import os\n",
    "#IPython.display for markdown\n",
    "from IPython.display import display, Markdown"
   ]
  },
  {
   "cell_type": "markdown",
   "metadata": {},
   "source": [
    "### Produce a folder that can be accesed by the pipeline  \n",
    "Before starting any analysis, make sure to select a folder where the analysis will be performed (*unless* stated otherwise, the analysis will be performed on the **same folder as this notebook**):"
   ]
  },
  {
   "cell_type": "code",
   "execution_count": null,
   "metadata": {},
   "outputs": [],
   "source": [
    "##Set working directory\n",
    "#Same location as script\n",
    "path = os.getcwd()\n",
    "#or somewhere else, e.g.:\n",
    "#path = '/home/jupyter-user/Workstation/user/parental'\n",
    "\n",
    "##Move to path\n",
    "os.chdir(path)\n",
    "\n",
    "##Show current directory to user\n",
    "display(Markdown('<div class=\\\"alert alert-block alert-info\\\">Directory for analysis:<br><b>' + os.getcwd() + '</b></div>'))"
   ]
  },
  {
   "cell_type": "markdown",
   "metadata": {},
   "source": [
    "### Make sure to have the \"stand alone\" software\n",
    "Most of the programs used within this pipeline have \"stand-alone\" versions that allow users to run their analysis on any computer they want. However, first you have to make sure to have those programs. Particularly, make sure to have a directory containing the following ones: \n",
    "\n",
    "- GATK (GenomeAnalysisTK.jar)\n",
    "- Picard (picard.jar)\n",
    "- SnpEff (folder with both snpEff.jar and SnpSift.jar, and another folder with its database; more below)\n",
    "\n",
    "For your convenience, there is a folder already containing these programs. Just make sure to set properly the path to them, e.g.:"
   ]
  },
  {
   "cell_type": "code",
   "execution_count": null,
   "metadata": {},
   "outputs": [],
   "source": [
    "##Path to software folder\n",
    "softpath = '/home/WGS_pipeline/Software'\n",
    "\n",
    "##GATK v3.8.1.0\n",
    "GATKpath = (softpath + '/gatk-3.8.1.0')\n",
    "\n",
    "##Picard v2.23.6 \n",
    "PiKpath = (softpath + '/picard2.23.6')\n",
    "\n",
    "##SnpEff v.0\n",
    "Snpath = (softpath + '/SnpEff-5.0/snpEff')\n",
    "\n",
    "##Alternative paths\n",
    "#GATKpath = ''\n",
    "#PiKpath = ''\n",
    "#Snpath = ''\n",
    "\n",
    "##Check if jar files are there\n",
    "##Notify user if GATK .jar is present or not\n",
    "if os.path.isfile(GATKpath + '/GenomeAnalysisTK.jar'):\n",
    "    display(Markdown('<div class=\\\"alert alert-block alert-success\\\"><b>\\b GATK</b></div>'))\n",
    "else:\n",
    "    display(Markdown('<div class=\\\"alert alert-block alert-danger\\\"><b>Error:</b><br>GATK not found in: ' + GATKpath +'</div>'))\n",
    "\n",
    "##Notify user if Picard .jar is present or not\n",
    "if os.path.isfile(PiKpath + '/picard.jar'):\n",
    "    display(Markdown('<div class=\\\"alert alert-block alert-success\\\"><b>\\b Picard</b></div>'))\n",
    "else:\n",
    "    display(Markdown('<div class=\\\"alert alert-block alert-danger\\\"><b>Error:</b><br>Picard not found in: ' + PiKpath +'</div>'))\n",
    "\n",
    "##Notify user if SnpEff .jar is present or not\n",
    "if os.path.isfile(Snpath + '/snpEff.jar'):\n",
    "    display(Markdown('<div class=\\\"alert alert-block alert-success\\\"><b>\\b SnpEff</b></div>'))\n",
    "else:\n",
    "    display(Markdown('<div class=\\\"alert alert-block alert-danger\\\"><b>Error:</b><br>SnpEff not found in: ' + GATKpath +'</div>'))"
   ]
  },
  {
   "cell_type": "markdown",
   "metadata": {},
   "source": [
    "### Make sure to have a reference genome\n",
    "In order to run this pipeline, a *C. elegans* reference genome is needed (preferentially in fasta format). The cells below allows you to prepare your reference file or to download the *C. elegans* ce11/WS235 version from Ensemble."
   ]
  },
  {
   "cell_type": "markdown",
   "metadata": {},
   "source": [
    "First, download or specify the location of your reference genome:"
   ]
  },
  {
   "cell_type": "code",
   "execution_count": null,
   "metadata": {},
   "outputs": [],
   "source": [
    "##Specify the location of the genome of Reference\n",
    "#e.g.\n",
    "RefFile=('/home/jupyter-newuser/Workstation/Amhed/Caenorhabditis_elegans.fa')\n",
    "\n",
    "###OR\n",
    "\n",
    "##To download ce11 uncomment (remove the # sign) from the lines below\n",
    "\n",
    "#!mkdir -p {path}/data\n",
    "\n",
    "#os.chdir(path+'/data')\n",
    "\n",
    "#!wget -q ftp://ftp.ensembl.org/pub/release-99/fasta/caenorhabditis_elegans/dna/Caenorhabditis_elegans.WBcel235.dna_sm.toplevel.fa.gz\n",
    "\n",
    "#!zcat Caenorhabditis_elegans.WBcel235.dna_sm.toplevel.fa.gz > Caenorhabditis_elegans.WBcel235.99.softmasked.fa\n",
    "\n",
    "#RefFile=(path+'/data/'+'Caenorhabditis_elegans.WBcel235.99.softmasked.fa')\n",
    "\n",
    "##Notify user if file present or not\n",
    "if os.path.isfile(RefFile):\n",
    "    display(Markdown('<div class=\\\"alert alert-block alert-success\\\"><b>Reference Genome :</b>\\n'+RefFile+'</div>'))\n",
    "else:\n",
    "    display(Markdown('<div class=\\\"alert alert-block alert-danger\\\"><b>Error:</b><br>Reference file: '+RefFile+' does not exists</div>'))"
   ]
  },
  {
   "cell_type": "markdown",
   "metadata": {},
   "source": [
    "Then it need to be indexed by samtools:"
   ]
  },
  {
   "cell_type": "code",
   "execution_count": null,
   "metadata": {},
   "outputs": [],
   "source": [
    "!samtools faidx {RefFile}\n",
    "\n",
    "##Notify user if this step was sucessfull\n",
    "if os.path.isfile(RefFile+'.fai'):\n",
    "    display(Markdown('<b>\\b</b>'))\n",
    "else:\n",
    "    display(Markdown('<div class=\\\"alert alert-block alert-danger\\\"><b>Error:</b><br>Index file not produced for '+RefFile+'</div>'))"
   ]
  },
  {
   "cell_type": "markdown",
   "metadata": {},
   "source": [
    "And bwa"
   ]
  },
  {
   "cell_type": "code",
   "execution_count": null,
   "metadata": {},
   "outputs": [],
   "source": [
    "!bwa index {RefFile} > /dev/null 2>&1\n",
    "\n",
    "##Notify user if this step was sucessfull\n",
    "if os.path.isfile(RefFile+'.bwt'):\n",
    "    display(Markdown('<b>\\b</b>'))\n",
    "else:\n",
    "    display(Markdown('<div class=\\\"alert alert-block alert-danger\\\"><b>Error:</b><br>Index file not produced for '+RefFile+'</div>'))"
   ]
  },
  {
   "cell_type": "markdown",
   "metadata": {},
   "source": [
    "And by picard tools"
   ]
  },
  {
   "cell_type": "code",
   "execution_count": null,
   "metadata": {},
   "outputs": [],
   "source": [
    "RefFilebase=''.join(RefFile.split('.')[:-1])\n",
    "!java -jar {softpath}/picard2.23.6/picard.jar CreateSequenceDictionary R={RefFile} O={RefFilebase +'.dict'} > /dev/null 2>&1\n",
    "\n",
    "##Notify user if this step was sucessfull\n",
    "if os.path.isfile(RefFilebase +'.dict'):\n",
    "    display(Markdown('<b>\\b</b>'))\n",
    "else:\n",
    "    display(Markdown('<div class=\\\"alert alert-block alert-danger\\\"><b>Error:</b><br>Index file not produced for '+RefFile+'</div>'))"
   ]
  },
  {
   "cell_type": "markdown",
   "metadata": {},
   "source": [
    "Now your reference genome is ready for the analysis in this pipeline (**as well as many others**)."
   ]
  },
  {
   "cell_type": "code",
   "execution_count": null,
   "metadata": {},
   "outputs": [],
   "source": [
    "ReferenceGenome = RefFile"
   ]
  },
  {
   "cell_type": "markdown",
   "metadata": {},
   "source": [
    "## Data analysis workflow\n",
    "The common pipeline consist on:\n",
    "* Quality assesment of sequencing reads via FastQC\n",
    "* Mapping of reads with bwa\n",
    "* Filtering and processing of alignment file with samtools\n",
    "* Coverage analysis with Samtools"
   ]
  },
  {
   "cell_type": "markdown",
   "metadata": {},
   "source": [
    "But before that, lets create a directory where the analysis will be executed:"
   ]
  },
  {
   "cell_type": "code",
   "execution_count": null,
   "metadata": {},
   "outputs": [],
   "source": [
    "##Move to that directory\n",
    "os.chdir(path)\n",
    "##Create directory to place data\n",
    "!mkdir -p {path}/analysis\n",
    "##Move to that directory\n",
    "os.chdir( path + '/analysis' )"
   ]
  },
  {
   "cell_type": "markdown",
   "metadata": {},
   "source": [
    "Lets now define parameters for pipeline:"
   ]
  },
  {
   "cell_type": "code",
   "execution_count": null,
   "metadata": {},
   "outputs": [],
   "source": [
    "##Inputs\n",
    "SampleName = 'CFJ125'\n",
    "FastqF1 = ('/home/jupyter-newuser/Workstation/CFJ125/CFJ125_R1.fastq') \n",
    "FastqF2 = ('/home/jupyter-newuser/Workstation/CFJ125/CFJ125_R2.fastq')\n",
    "SnpEffGen = 'WBcel235.99'\n",
    "\n",
    "#Minimal quality for bam\n",
    "minMaqQforBam = 1\n",
    "#Minimum quality for vcf filtering\n",
    "minMaqQforVcf = 10\n",
    "#Minimum basequality for variant calling\n",
    "minBaseQforVcf = 10\n",
    "#\n",
    "minVarCall = 10\n",
    "diffStep = 10\n",
    "minDel = 2\n",
    "maxSample= 2\n",
    "\n",
    "#Number of threats\n",
    "Ncpu=4\n",
    "#Ram for java\n",
    "ramG=20"
   ]
  },
  {
   "cell_type": "markdown",
   "metadata": {},
   "source": [
    "### Quality assesment of Fastq files\n",
    "A simple way to verify the quality of your sequencing runs is via the FastQC program. The following cells will make a directory to run the analysis and output its results."
   ]
  },
  {
   "cell_type": "code",
   "execution_count": null,
   "metadata": {},
   "outputs": [],
   "source": [
    "##Create directory to place data\n",
    "!mkdir -p FastQC\n",
    "##Move to that directory\n",
    "os.chdir(path + '/analysis/FastQC')"
   ]
  },
  {
   "cell_type": "code",
   "execution_count": null,
   "metadata": {},
   "outputs": [],
   "source": [
    "##Perform fastQC analysis\n",
    "!fastqc -t {Ncpu} {FastqF1} {FastqF2} -o . > /dev/null 2>&1\n",
    "\n",
    "##Notify user if this step was sucessfull\n",
    "tempname1 = FastqF1.split(\"/\")[-1]\n",
    "tempname1 = ''.join(tempname1.split(\".\")[-len(tempname1.split(\".\"))])\n",
    "if os.path.isfile(tempname1 + '_fastqc.html'):\n",
    "    #display(Markdown('<div class=\\\"alert alert-block alert-success\\\">'))\n",
    "    !unzip -o -qq \\*.zip\n",
    "    display(Markdown('<b>Metrics:</b>'))\n",
    "    tempname1 = FastqF1.split(\"/\")[-1]\n",
    "    tempname1 = ''.join(tempname1.split(\".\")[-len(tempname1.split(\".\"))])\n",
    "    print(tempname1)\n",
    "    !cat {tempname1}_fastqc/summary.txt\n",
    "    tempname2 = FastqF2.split(\"/\")[-1]\n",
    "    tempname2 = ''.join(tempname2.split(\".\")[-len(tempname2.split(\".\"))])\n",
    "    print(tempname2)\n",
    "    !cat {tempname2}_fastqc/summary.txt\n",
    "    display(Markdown('<b>\\b</b>'))\n",
    "else:\n",
    "    display(Markdown('<div class=\\\"alert alert-block alert-danger\\\"><b>Error:</b><br>FASTQC report not produced in current directory: '+os.getcwd()+'</div>'))"
   ]
  },
  {
   "cell_type": "markdown",
   "metadata": {},
   "source": [
    "#### HTML reports\n",
    "Run the cell below to link the FastQC results to this notebook."
   ]
  },
  {
   "cell_type": "code",
   "execution_count": null,
   "metadata": {},
   "outputs": [],
   "source": [
    "display(Markdown('Full reports (open a new tab to see them): \\n' + '* [' + tempname1 + '](./analysis/FastQC/' + tempname1 +'_fastqc.html)\\n' + '* [' + tempname2 + '](./analysis/FastQC/' + tempname2 +'_fastqc.html)\\n'))"
   ]
  },
  {
   "cell_type": "markdown",
   "metadata": {},
   "source": [
    "### Mapping reads to reference genome using bwa"
   ]
  },
  {
   "cell_type": "markdown",
   "metadata": {},
   "source": [
    "After assesed the quality of the Fastq reads, we will map them to the reference genome using bwa. For that running the cells belows will produce a directory where the analysis will be performed."
   ]
  },
  {
   "cell_type": "code",
   "execution_count": null,
   "metadata": {},
   "outputs": [],
   "source": [
    "##Move to analysis\n",
    "os.chdir(path + '/analysis/')\n",
    "##Create directory to place data\n",
    "!mkdir -p Alignments\n",
    "##Move to that directory\n",
    "os.chdir(path + '/analysis/Alignments')"
   ]
  },
  {
   "cell_type": "code",
   "execution_count": null,
   "metadata": {},
   "outputs": [],
   "source": [
    "!bwa mem -t {Ncpu} -M {ReferenceGenome} {FastqF1} {FastqF2} -o {SampleName}.sam > /dev/null 2>&1\n",
    "\n",
    "##Notify user if previous step was sucessfull\n",
    "if os.path.isfile(SampleName+'.sam'):\n",
    "    #display(Markdown('<div class=\\\"alert alert-block alert-success\\\">\\b</div>'))\n",
    "    display(Markdown('<b>\\b</b>'))\n",
    "else:\n",
    "    display(Markdown('<div class=\\\"alert alert-block alert-danger\\\"><b>Error:</b><br>Sam file not present in current path: '+os.getcwd()+'</div>'))"
   ]
  },
  {
   "cell_type": "markdown",
   "metadata": {},
   "source": [
    "Now lets transform to bam"
   ]
  },
  {
   "cell_type": "code",
   "execution_count": null,
   "metadata": {},
   "outputs": [],
   "source": [
    "!samtools view -@ {Ncpu} -S -bh {SampleName}.sam | samtools sort -@ {Ncpu} - > {SampleName}.bam\n",
    "\n",
    "if os.path.isfile(SampleName+'.bam'):\n",
    "    #display(Markdown('<div class=\\\"alert alert-block alert-success\\\">\\b</div>'))\n",
    "    display(Markdown('<b>\\b</b>'))\n",
    "else:\n",
    "    display(Markdown('<div class=\\\"alert alert-block alert-danger\\\"><b>Error:</b><br>Sam file not present in current path: '+os.getcwd()+'</div>'))"
   ]
  },
  {
   "cell_type": "markdown",
   "metadata": {},
   "source": [
    "Now lets index"
   ]
  },
  {
   "cell_type": "code",
   "execution_count": null,
   "metadata": {},
   "outputs": [],
   "source": [
    "!samtools index {SampleName}.bam\n",
    "\n",
    "if os.path.isfile(SampleName+'.bam.bai'):\n",
    "    #display(Markdown('<div class=\\\"alert alert-block alert-success\\\">\\b</div>'))\n",
    "    display(Markdown('<b>\\b</b>'))\n",
    "else:\n",
    "    display(Markdown('<div class=\\\"alert alert-block alert-danger\\\"><b>Error:</b><br>Index file not present in current path: '+os.getcwd()+'</div>'))"
   ]
  },
  {
   "cell_type": "markdown",
   "metadata": {},
   "source": [
    "Filter for mapping quality"
   ]
  },
  {
   "cell_type": "code",
   "execution_count": null,
   "metadata": {},
   "outputs": [],
   "source": [
    "!samtools view -@ {Ncpu} -q {minMaqQforBam} -bh {SampleName}.bam > {SampleName}.SF.bam\n",
    "\n",
    "if os.path.isfile(SampleName+'.SF.bam'):\n",
    "    #display(Markdown('<div class=\\\"alert alert-block alert-success\\\">\\b</div>'))\n",
    "    display(Markdown('<b>\\b</b>'))\n",
    "else:\n",
    "    display(Markdown('<div class=\\\"alert alert-block alert-danger\\\"><b>Error:</b><br>Filtered file not present in current path: '+os.getcwd()+'</div>'))"
   ]
  },
  {
   "cell_type": "markdown",
   "metadata": {},
   "source": [
    "Then add and replace groups via picard"
   ]
  },
  {
   "cell_type": "code",
   "execution_count": null,
   "metadata": {},
   "outputs": [],
   "source": [
    "!java -Xmx{ramG}g -jar {softpath}/picard2.23.6/picard.jar AddOrReplaceReadGroups I={SampleName}.SF.bam O={SampleName}.RG.bam RGID={SampleName} RGLB=LB RGPL=illumina RGPU=PU RGSM={SampleName} > /dev/null 2>&1\n",
    "\n",
    "if os.path.isfile(SampleName+'.RG.bam'):\n",
    "    #display(Markdown('<div class=\\\"alert alert-block alert-success\\\">\\b</div>'))\n",
    "    display(Markdown('<b>\\b</b>'))\n",
    "else:\n",
    "    display(Markdown('<div class=\\\"alert alert-block alert-danger\\\"><b>Error:</b><br>Read groups file not present in current path: '+os.getcwd()+'</div>'))"
   ]
  },
  {
   "cell_type": "markdown",
   "metadata": {},
   "source": [
    "Then we mark duplicates"
   ]
  },
  {
   "cell_type": "code",
   "execution_count": null,
   "metadata": {},
   "outputs": [],
   "source": [
    "!java -Xmx{ramG}g -jar {softpath}/picard2.23.6/picard.jar MarkDuplicates I={SampleName}.RG.bam O={SampleName}.Dup.bam M={SampleName}.dedupMetrics REMOVE_DUPLICATES=true > /dev/null 2>&1\n",
    "\n",
    "if os.path.isfile(SampleName+'.Dup.bam'):\n",
    "    display(Markdown('<b>\\b</b>'))\n",
    "else:\n",
    "    display(Markdown('<div class=\\\"alert alert-block alert-danger\\\"><b>Error:</b><br>Aligment withouth duplicates file not present in current path: '+os.getcwd()+'</div>'))"
   ]
  },
  {
   "cell_type": "markdown",
   "metadata": {},
   "source": [
    "Index bam"
   ]
  },
  {
   "cell_type": "code",
   "execution_count": null,
   "metadata": {},
   "outputs": [],
   "source": [
    "!samtools index {SampleName}.Dup.bam\n",
    "\n",
    "if os.path.isfile(SampleName+'.Dup.bam.bai'):\n",
    "    #display(Markdown('<div class=\\\"alert alert-block alert-success\\\">\\b</div>'))\n",
    "    display(Markdown('<b>\\b</b>'))\n",
    "else:\n",
    "    display(Markdown('<div class=\\\"alert alert-block alert-danger\\\"><b>Error:</b><br>Index file not present in current path: '+os.getcwd()+'</div>'))"
   ]
  },
  {
   "cell_type": "markdown",
   "metadata": {},
   "source": [
    "Feel free to download the files before realigment by following the links:"
   ]
  },
  {
   "cell_type": "code",
   "execution_count": null,
   "metadata": {},
   "outputs": [],
   "source": [
    "display(Markdown('Download bam files (right-click and \\\"save as\\\"): \\n' + '* [' + SampleName + '.Dup.bam](./analysis/Alignments/' + SampleName +'.Dup.bam)\\n' + '* [' + SampleName + '.Dup.bam.bai](./analysis/Alignments/' + SampleName +'.Dup.bam.bai)\\n'))"
   ]
  },
  {
   "cell_type": "markdown",
   "metadata": {},
   "source": [
    "### Coverage analysis with samtools\n",
    "Finally let's see basic stats of the reads mapped in the last bam file"
   ]
  },
  {
   "cell_type": "code",
   "execution_count": null,
   "metadata": {},
   "outputs": [],
   "source": [
    "!samtools coverage {SampleName}.Dup.bam"
   ]
  },
  {
   "cell_type": "markdown",
   "metadata": {},
   "source": [
    "**Done**"
   ]
  }
 ],
 "metadata": {
  "kernelspec": {
   "display_name": "Python 3",
   "language": "python",
   "name": "python3"
  },
  "language_info": {
   "codemirror_mode": {
    "name": "ipython",
    "version": 3
   },
   "file_extension": ".py",
   "mimetype": "text/x-python",
   "name": "python",
   "nbconvert_exporter": "python",
   "pygments_lexer": "ipython3",
   "version": "3.7.3"
  }
 },
 "nbformat": 4,
 "nbformat_minor": 2
}
