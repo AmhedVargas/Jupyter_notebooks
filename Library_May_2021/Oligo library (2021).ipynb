{
 "cells": [
  {
   "cell_type": "markdown",
   "id": "ed3d8d83",
   "metadata": {},
   "source": [
    "# Oligo library (2021)\n",
    "\n",
    "* Amhed Missael Vargas Velazquez\n",
    "* Post-doctoral fellow, SGB lab, KAUST\n",
    "* May, 2021\n",
    "\n",
    "## Description\n",
    "This jupyter notebook has been adapted to contain the terminal commands used to produce a Twist oligo library for hightrhout output analysis of C. elegans regulatory elements. The working environment is R, but most of the commands are actually run in the Unix terminal.\n",
    "\n",
    "## Software requirements\n",
    "The core instance running this script is R 4.0. However, the analysis are performed by multiple programs (handled by `system calls`) which have been installed previously. In particular:\n",
    "\n",
    "* [bedtools](https://bedtools.readthedocs.io/en/latest/)\n",
    "* awk\n",
    "* wget\n",
    "* zcat\n",
    "* gzip\n",
    "* [**R**](https://cran.r-project.org/)\n",
    "\n",
    "### R libraries\n",
    "* ggplot2\n",
    "* stringdist\n",
    "\n",
    "### Prerequisites\n",
    "#### Working directory\n",
    "Before running any code, make sure to set a working directory where everything will happen, e.g.:"
   ]
  },
  {
   "cell_type": "code",
   "execution_count": 3,
   "id": "070f54ab",
   "metadata": {
    "scrolled": true
   },
   "outputs": [
    {
     "data": {
      "text/html": [
       "'/home/jupyter-amhed/Oligo_library'"
      ],
      "text/latex": [
       "'/home/jupyter-amhed/Oligo\\_library'"
      ],
      "text/markdown": [
       "'/home/jupyter-amhed/Oligo_library'"
      ],
      "text/plain": [
       "[1] \"/home/jupyter-amhed/Oligo_library\""
      ]
     },
     "metadata": {},
     "output_type": "display_data"
    }
   ],
   "source": [
    "##Run the code once to avoid recursive creation of folders\n",
    "#system(\"mkdir Oligo_library\")\n",
    "setwd(\"Oligo_library\")\n",
    "getwd()"
   ]
  },
  {
   "cell_type": "markdown",
   "id": "34f29314",
   "metadata": {},
   "source": [
    "Also extra directories for saving the outputs"
   ]
  },
  {
   "cell_type": "code",
   "execution_count": 6,
   "id": "30b634c2",
   "metadata": {
    "collapsed": true,
    "scrolled": true
   },
   "outputs": [],
   "source": [
    "system(\"mkdir bed_and_fastas\")\n",
    "system(\"mkdir bed_and_fastas/cel_reference\")"
   ]
  },
  {
   "cell_type": "markdown",
   "id": "ecda62f6",
   "metadata": {},
   "source": [
    "#### Download initial data\n",
    "To work the library out, we need a genomic file (WS280):"
   ]
  },
  {
   "cell_type": "code",
   "execution_count": 4,
   "id": "243dfd23",
   "metadata": {
    "collapsed": true,
    "scrolled": true
   },
   "outputs": [],
   "source": [
    "##Download\n",
    "system(\"wget ftp://ftp.wormbase.org/pub/wormbase/releases/WS280/species/c_elegans/PRJNA13758/c_elegans.PRJNA13758.WS280.genomic.fa.gz\")\n",
    "##Uncompress\n",
    "system(\"gzip -d c_elegans.PRJNA13758.WS280.genomic.fa.gz\")"
   ]
  },
  {
   "cell_type": "markdown",
   "id": "5d10f79f",
   "metadata": {},
   "source": [
    "Genomic annotations (gff3) file:"
   ]
  },
  {
   "cell_type": "code",
   "execution_count": 5,
   "id": "06eda819",
   "metadata": {
    "collapsed": true,
    "scrolled": true
   },
   "outputs": [],
   "source": [
    "system(\"wget ftp://ftp.wormbase.org/pub/wormbase/releases/WS280/species/c_elegans/PRJNA13758/c_elegans.PRJNA13758.WS280.annotations.gff3.gz\")"
   ]
  },
  {
   "cell_type": "markdown",
   "id": "f0345eda",
   "metadata": {},
   "source": [
    "And the data from Ahringer [RegAtlas](https://ahringerlab.com/RegAtlas/):"
   ]
  },
  {
   "cell_type": "code",
   "execution_count": 8,
   "id": "1bb8d592",
   "metadata": {
    "collapsed": true,
    "scrolled": true
   },
   "outputs": [],
   "source": [
    "system(\"wget https://github.com/js2264/RegAtlas/raw/master/dashboard.Ahringer/releases/dashboard.Ahringer_v0.5.3/data/minimal-data.RData\")"
   ]
  },
  {
   "cell_type": "markdown",
   "id": "c074b18d",
   "metadata": {},
   "source": [
    "Verify all the files have been downloaded just fine"
   ]
  },
  {
   "cell_type": "code",
   "execution_count": 3,
   "id": "f851630d",
   "metadata": {
    "scrolled": true
   },
   "outputs": [
    {
     "data": {
      "text/html": [
       "<style>\n",
       ".list-inline {list-style: none; margin:0; padding: 0}\n",
       ".list-inline>li {display: inline-block}\n",
       ".list-inline>li:not(:last-child)::after {content: \"\\00b7\"; padding: 0 .5ex}\n",
       "</style>\n",
       "<ol class=list-inline><li>'bed_and_fastas'</li><li>'c_elegans.PRJNA13758.WS280.annotations.gff3.gz'</li><li>'c_elegans.PRJNA13758.WS280.genomic.fa'</li><li>'minimal-data.RData'</li></ol>\n"
      ],
      "text/latex": [
       "\\begin{enumerate*}\n",
       "\\item 'bed\\_and\\_fastas'\n",
       "\\item 'c\\_elegans.PRJNA13758.WS280.annotations.gff3.gz'\n",
       "\\item 'c\\_elegans.PRJNA13758.WS280.genomic.fa'\n",
       "\\item 'minimal-data.RData'\n",
       "\\end{enumerate*}\n"
      ],
      "text/markdown": [
       "1. 'bed_and_fastas'\n",
       "2. 'c_elegans.PRJNA13758.WS280.annotations.gff3.gz'\n",
       "3. 'c_elegans.PRJNA13758.WS280.genomic.fa'\n",
       "4. 'minimal-data.RData'\n",
       "\n",
       "\n"
      ],
      "text/plain": [
       "[1] \"bed_and_fastas\"                                \n",
       "[2] \"c_elegans.PRJNA13758.WS280.annotations.gff3.gz\"\n",
       "[3] \"c_elegans.PRJNA13758.WS280.genomic.fa\"         \n",
       "[4] \"minimal-data.RData\"                            "
      ]
     },
     "metadata": {},
     "output_type": "display_data"
    }
   ],
   "source": [
    "list.files(\".\")"
   ]
  },
  {
   "cell_type": "markdown",
   "id": "e8aaf439",
   "metadata": {
    "collapsed": true,
    "scrolled": true
   },
   "source": [
    "## Introduction\n",
    "Our [lab](https://wormbuilder.org/) specializes in the development and scalability of molecular tools in *C. elegans*, e.g. MosTi or piRNAi (naming a few). And as such, since 2019 we've vouched for the use of large-scale oligo-libraries for directed mutagenesis via CRISPR, and to study gene regulation (see MDJ thesis proposal or our CRG2020 grant). The gist is simple, we design a particular scaffold, decide which sequences to insert in it, and we ask [Twist](https://www.twistbioscience.com/) to synthetize a dozen of them.  \n",
    "\n",
    "The aim of this notebook is to guide you trhough the construction of these libraries. First, we will extract our genomic sequences of interest using coordinates in [bed](https://genome.ucsc.edu/FAQ/FAQformat.html) format. Subsequently, we will parse the coordinates given prederminated parameters (see below); and finally, we will assembly everything in R.\n",
    "\n",
    "### Extracting *C. elegans* gene coordinates from .gff3 files\n",
    "`.gff3` as `.bed` is a tab-delimited file format to store the coordinates of any element annotated in a given genome. Given its flexibility, [Wormbase](https://wormbase.org/) prefers its use althought there are arguably less programs that handle it; that's why we would be using the bed format instead. The main difference to keep in mind between these two formats is that .gff3 is a 1-based coordinate sytem while .bed files are [0-based](https://www.biostars.org/p/84686/), i.e. we have to substract one from the start position of any genomic element in .gff3. \n",
    "\n",
    "Also, note that by mere preference we would be processing out the bed files in bash commands, though these files could also be handled in R (in particular with the use of the [bedr](https://cran.r-project.org/web/packages/bedr/vignettes/Using-bedr.html) package).\n",
    "\n",
    "#### *C. elegans* genebodies\n",
    "The command below is composed of three main parts:\n",
    "* Opening and extraction of CDSs (`zcat` and `awk, $3==CDS`)\n",
    "* Split relevant info of each CDS and order via awk (`split` function)\n",
    "* Indexing of only the first and last CDS per transcript to produce a \"genebodie\", i.e. coordinates from the start to the stop codon (included)."
   ]
  },
  {
   "cell_type": "code",
   "execution_count": 8,
   "id": "3bb6ae60",
   "metadata": {},
   "outputs": [
    {
     "name": "stdout",
     "output_type": "stream",
     "text": [
      "I\t10014740\t10015437\tC03C11.1.1\t.\t+"
     ]
    }
   ],
   "source": [
    "##Wrap command in cmd\n",
    "cmd = \"zcat c_elegans.PRJNA13758.WS280.annotations.gff3.gz | awk -F\\\"\\t\\\" '{if($2==\\\"WormBase\\\"){if($3==\\\"CDS\\\"){print $0}}}' - | awk -F\\\"\\t|;|=\\\" '{print $1\\\"\\t\\\"$4\\\"\\t\\\"$5\\\"\\t\\\"$12\\\"\\t.\\t\\\"$7}' | perl -pe 's/Transcript://g' | awk -F\\\"\\t\\\" '{OFS=\\\"\\t\\\"; split($4,trans,\\\",\\\"); for(i=1;i<=length(trans);i++){print $1,$2,$3,trans[i],$5,$6}}' | awk -F\\\"\\t\\\" '{if(array[$4] != 0){if(start[$4] > $2){start[$4]=$2};if(end[$4] < $3){end[$4]=$3};array[$4]=$1\\\"\\t\\\"start[$4]\\\"\\t\\\"end[$4]\\\"\\t\\\"$4\\\"\\t\\\"$5\\\"\\t\\\"$6}else{start[$4]=$2;end[$4]=$3;array[$4]=$0}}END{for(key in array){print array[key]}}' - | sort > Cel_GeneBodies.bed\"\n",
    "#run command\n",
    "system(cmd)\n",
    "#Verify file was produced\n",
    "cat(head(readLines(\"Cel_GeneBodies.bed\"),1))"
   ]
  },
  {
   "cell_type": "markdown",
   "id": "0f240da4",
   "metadata": {
    "collapsed": true,
    "scrolled": true
   },
   "source": [
    "As showed above, the coordinates indicate the genebody for the transcript `C03C11.1.1`, however, it is much better if we have the actual gene name; let's extract them from the gff3 as well via the `mRNA` annotations, i.e:\n",
    "* Open gff3 and get mRNA entries\n",
    "* Split mRNA entries to get WBID, genename and transcript"
   ]
  },
  {
   "cell_type": "code",
   "execution_count": 9,
   "id": "ab632d69",
   "metadata": {
    "scrolled": true
   },
   "outputs": [
    {
     "name": "stdout",
     "output_type": "stream",
     "text": [
      "Y74C9A.3.1\tWBGene00022277;Y74C9A.3.1;homt-1\tWBGene00022277;Y74C9A.3.1;homt-1\tY74C9A.3.1"
     ]
    }
   ],
   "source": [
    "##Wrap command in cmd\n",
    "cmd = \"zcat c_elegans.PRJNA13758.WS280.annotations.gff3.gz | grep -v \\\"#\\\" | grep \\\"WormBase\\\" | awk -F\\\"\\t\\\" '{if ($3==\\\"mRNA\\\"){print $9}}'| awk -F\\\";\\\" '{split($1,ts,\\\":\\\"); split($2,gs,\\\":\\\"); split($5,loc,\\\"=\\\"); print ts[2]\\\"\\t\\\"gs[2]\\\";\\\"ts[2]\\\";\\\"loc[2]}' | awk -F\\\"\\t\\\" '{OFS=\\\"\\t\\\"; print $1,$2,$2,$1}' > Cel_mRNAID.txt\"\n",
    "#run command\n",
    "system(cmd)\n",
    "#Verify file was produced\n",
    "cat(head(readLines(\"Cel_mRNAID.txt\"),1))"
   ]
  },
  {
   "cell_type": "markdown",
   "id": "1d81ab2e",
   "metadata": {},
   "source": [
    "Now is only matter of combining them via a hash, i.e:"
   ]
  },
  {
   "cell_type": "code",
   "execution_count": 11,
   "id": "5a6309b0",
   "metadata": {},
   "outputs": [
    {
     "name": "stdout",
     "output_type": "stream",
     "text": [
      "I\t10014739\t10015437\tWBGene00007274;C03C11.1.1;\t.\t+"
     ]
    }
   ],
   "source": [
    "##Wrap command in cmd\n",
    "cmd = \"awk -F\\\"\\t\\\" '{OFS=\\\"\\t\\\"; if(array[$4]==0){array[$4]=$2}else{print $1,($2-1),$3,array[$4],$5,$6}}' Cel_mRNAID.txt Cel_GeneBodies.bed > Cel_Genes.bed\"\n",
    "#run command\n",
    "system(cmd)\n",
    "#Verify file was produced\n",
    "cat(head(readLines(\"Cel_Genes.bed\"),1))"
   ]
  },
  {
   "cell_type": "code",
   "execution_count": null,
   "id": "07ca2f0b",
   "metadata": {},
   "outputs": [],
   "source": []
  },
  {
   "cell_type": "code",
   "execution_count": null,
   "id": "35efec66",
   "metadata": {},
   "outputs": [],
   "source": []
  }
 ],
 "metadata": {
  "kernelspec": {
   "display_name": "R",
   "language": "R",
   "name": "ir"
  },
  "language_info": {
   "codemirror_mode": "r",
   "file_extension": ".r",
   "mimetype": "text/x-r-source",
   "name": "R",
   "pygments_lexer": "r",
   "version": "4.0.5"
  }
 },
 "nbformat": 4,
 "nbformat_minor": 5
}
