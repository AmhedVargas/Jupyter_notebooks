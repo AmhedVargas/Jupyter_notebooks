{
 "cells": [
  {
   "cell_type": "markdown",
   "metadata": {},
   "source": [
    "# small RNA mapping\n",
    "## Presence of 21-U in *C. elegans* injected with piRNAi fragments\n",
    "* [Amhed Missael Vargas Velazquez](https://www.researchgate.net/profile/Amhed-Vargas-Velazquez)\n",
    "* Post-doctoral fellow, [SGB lab](https://syngenbio.kaust.edu.sa/), [KAUST](https://www.kaust.edu.sa/en)\n",
    "\n",
    "## Brief description\n",
    "This jupyter notebook describes the pipeline used to map small RNAs to *C. elegans* genome and synthetic piRNAi fragments.\n",
    "\n",
    "### Methodology\n",
    "Sequencing reads were trimmed to remove 3’ adapter sequences and library barcodes using *cutadapt3*. The resultant reads were aligned to an indexed reference fasta file, containing the *C. elegans* WS235/ce11 genome sequence and synthetic piRNA fragment sequences, via *bowtie v 1.2.2* with the following parameters: “-S -5 4 -v 0”. Subsequently, the resultant alignment was processed using GNU *awk* in order to keep only 21 bp long reads that mapped and whose sequence started with thymine. Finally, the depth of coverage across the reference file was calculated using *mpileup* from the *samtools* suite and finally plotted at each locus in *R v 3.6.3* using the *ggplot2* and *gridExtra* libraries.\n",
    "\n",
    "## Software requirements\n",
    "The core instance running this script is Python. However, the analysis are performed by multiple programs (handled by `system calls`) which have to be installed or, for portability convenience, be present in the working directory.\n",
    "\n",
    "* fastqc\n",
    "* bowtie\n",
    "* samtools\n",
    "* zcat\n",
    "* [**R**](https://cran.r-project.org/)\n",
    "\n",
    "### R libraries\n",
    "* ggplot2\n",
    "* stringr\n",
    "* gridExtra\n"
   ]
  },
  {
   "cell_type": "markdown",
   "metadata": {},
   "source": [
    "# Setup\n",
    "\n",
    "## Working directory and libraries import\n",
    "We import all the required Python libraries"
   ]
  },
  {
   "cell_type": "code",
   "execution_count": 1,
   "metadata": {},
   "outputs": [],
   "source": [
    "## Load libraries\n",
    "#os to move within directories\n",
    "import os, sys\n",
    "##Set main working directory\n",
    "path = '/home/velazqam/Documents/Projects/piRNA_counts'\n",
    "##Move to path\n",
    "os.chdir(path)"
   ]
  },
  {
   "cell_type": "markdown",
   "metadata": {},
   "source": [
    "# Code\n",
    "DO NOT RUN"
   ]
  },
  {
   "cell_type": "code",
   "execution_count": null,
   "metadata": {},
   "outputs": [],
   "source": [
    "#####Bowtie\n",
    "###Redo everything for all libraries\n",
    "\n",
    "for file in `ls *.gz`; do \n",
    "#Mention library\n",
    "echo ${file%.fq.gz}; \n",
    "\n",
    "#make directory\n",
    "mkdir ${file%.fq.gz}; \n",
    "mv ${file} ${file%.fq.gz};\n",
    "cd ${file%.fq.gz};\n",
    "\n",
    "#Basic quality assessment\n",
    "fastqc -t 20 ${file}\n",
    "\n",
    "# let's not remove adapter to be consistent\n",
    "#cutadapt3 -u 4 -m 15 -M 45 ${file} -o ${file%.fq.gz}_TrimmednFiltered.fastq\n",
    "\n",
    "cutadapt3 -m 15 -M 45 ${file} -a AGATCGGAAGAGCACACGTCT -g GTTCAGAGTTCTACAGTCCGACGATC -o ${file%.fq.gz}_TrimmednFiltered.fastq\n",
    "\n",
    "cp ../Fragments_reference.fasta .\n",
    "\n",
    "bowtie-build Fragments_reference.fasta Fragments_bowtie\n",
    "\n",
    "bowtie -S -v 0 -a Fragments_bowtie ${file%.fq.gz}_TrimmednFiltered.fastq ${file%.fq.gz}_TrimmednFiltered_bowtie.sam\n",
    "\n",
    "awk -F\"\\t\" '{if(length($10) == 21){print $0}}' ${file%.fq.gz}_TrimmednFiltered_bowtie.sam | awk -F\"\\t\" '{if($2 != 4){print $0}}' | awk -F\"\\t\" '{if($2 == 16){if(substr($10,21,1) == \"A\"){print $0}}else{if(substr($10,1,1) == \"T\"){print $0}}}' > ${file%.fq.gz}_TrimmednFiltered.21-U.bowtie.sam\n",
    "\n",
    "grep \"@\" ${file%.fq.gz}_TrimmednFiltered_bowtie.sam | cat - ${file%.fq.gz}_TrimmednFiltered.21-U.bowtie.sam | samtools view -bS - | samtools sort - -o ${file%.fq.gz}_TrimmednFiltered.21-U.sort.bowtie.bam\n",
    "\n",
    "samtools mpileup -f Fragments_reference.fasta ${file%.fq.gz}_TrimmednFiltered.21-U.sort.bowtie.bam | awk -F\"\\t\" '{print $1\"\\t\"$3\"\\t\"$2\"\\t\"$4}' > ${file%.fq.gz}.coverage.tab\n",
    "\n",
    "Rscript --vanilla ../simpleggplot.R ${file%.fq.gz}.coverage.tab ${file%.fq.gz}\n",
    "\n",
    "cd ..;\n",
    "\n",
    "done\n"
   ]
  },
  {
   "cell_type": "code",
   "execution_count": null,
   "metadata": {},
   "outputs": [],
   "source": [
    "##Any aligned 21U read\n",
    "for file in `ls */*21-U*.sam`; do echo ${file}; cat ${file} | awk -F\"\\t\" '{reads[$3]++} END{for(chr in reads){print \"'${file%/*}'\\t\"chr\"\\t\"reads[chr]}}' | sort | perl -pe 's/locus\\=//g' | perl -pe 's/\\([\\+ | \\-]\\)//g' >> Combined_counts.txt; done\n",
    "\n",
    "###Only uniquely aligned 21U read; taking first aligment as true aligment\n",
    "for file in `ls */*21-U*.sam`; do echo ${file}; cat ${file} | awk -F\"\\t\" '{count[$1]++; if(count[$1] == 1){print $0}}' | awk -F\"\\t\" '{reads[$3]++} END{for(chr in reads){print \"'${file%/*}'\\t\"chr\"\\t\"reads[chr]}}' | sort | perl -pe 's/locus\\=//g' | perl -pe 's/\\([\\+ | \\-]\\)//g' >> Combined_rmmup_counts.txt; done\n",
    "\n",
    "###Only 21U uniquely aligned reads in genome\n",
    "for file in `ls */*21-U*.sam`; do echo ${file}; cat ${file} | awk -F\"\\t\" '{if($3 ~ /21/){}else{print $0}}' | awk -F\"\\t\" '{count[$1]++; if(count[$1] == 1){print $0}}' | awk -F\"\\t\" '{reads[$3]++} END{for(chr in reads){print \"'${file%/*}'\\t\"chr\"\\t\"reads[chr]}}' | sort | perl -pe 's/locus\\=//g' | perl -pe 's/\\([\\+ | \\-]\\)//g' >> Genomic_aligned_Reads.txt; done\n",
    "\n",
    "###Only 21U but NOT uniquely aligned reads in genome\n",
    "for file in `ls */*21-U*.sam`; do echo ${file}; cat ${file} | awk -F\"\\t\" '{if($3 ~ /21/){}else{print $0}}' | awk -F\"\\t\" '{reads[$3]++} END{for(chr in reads){print \"'${file%/*}'\\t\"chr\"\\t\"reads[chr]}}' | sort | perl -pe 's/locus\\=//g' | perl -pe 's/\\([\\+ | \\-]\\)//g' >> Genomic_alignednotunique_Reads.txt; done\n",
    "\n",
    "###Only 21U alignments to twist fragments reads in genome\n",
    "for file in `ls */*21-U*.sam`; do echo ${file}; cat ${file} | awk -F\"\\t\" '{if($3 ~ /T[1-9]/){print $0}}' | awk -F\"\\t\" '{reads[$3]++} END{for(chr in reads){print \"'${file%/*}'\\t\"chr\"\\t\"reads[chr]}}' | sort | perl -pe 's/locus\\=//g' | perl -pe 's/\\([\\+ | \\-]\\)//g' >> Twist_alignednotunique_Reads.txt; done\n",
    "\n",
    "###Only 21U alignments to endogenous sites (as denoted by sam) in genome\n",
    "for file in `ls */*21-U*.sam`; do echo ${file}; cat ${file} | awk -F\"\\t\" '{if($3 ~ /end/){print $0}}' | awk -F\"\\t\" '{reads[$3]++} END{for(chr in reads){print \"'${file%/*}'\\t\"chr\"\\t\"reads[chr]}}' | sort | perl -pe 's/locus\\=//g' | perl -pe 's/\\([\\+ | \\-]\\)//g' >> Endogenous_alignednotunique_Reads.txt; done\n",
    "\n",
    "###Only 21U alignements to any piRNA locus \n",
    "for file in `ls */*21-U*.sam`; do echo ${file}; cat ${file} | awk -F\"\\t\" '{if($3 ~ /21/){print $0}}' | awk -F\"\\t\" '{reads[$3]++} END{for(chr in reads){print \"'${file%/*}'\\t\"chr\"\\t\"reads[chr]}}' | sort | perl -pe 's/locus\\=//g' | perl -pe 's/\\([\\+ | \\-]\\)//g' >> piLocus_alignednotunique_Reads.txt; done\n"
   ]
  },
  {
   "cell_type": "markdown",
   "metadata": {},
   "source": [
    "# Comments"
   ]
  },
  {
   "cell_type": "markdown",
   "metadata": {},
   "source": [
    "`simpleggplot.R` script is enclosed in this directory."
   ]
  },
  {
   "cell_type": "markdown",
   "metadata": {},
   "source": [
    "# References\n",
    "Martin, M. Cutadapt removes adapter sequences from high-throughput sequencing reads. EMBnet.journal vol. 17 3 (2011).\n",
    "\n",
    "Langmead, B., Trapnell, C., Pop, M. & Salzberg, S. L. Ultrafast and memory-efficient alignment of short DNA sequences to the human genome. Genome Biol 10, R25 (2009).\n",
    "\n",
    "Li, H. et al. The Sequence Alignment/Map format and SAMtools. Bioinformatics 25, 2078–2079 (2009).\n",
    "\n",
    "R Core Team. R: A language and environment for statistical computing (2020).\n",
    "\n",
    "Wickham, H. ggplot2: Elegant Graphics for Data Analysis. (Springer-Verlag NewYork, 2016).\n",
    "\n",
    "Baptiste, A. gridExtra: Miscellaneous Functions for ‘Grid’ Graphics. R package version 2.3. (2017)."
   ]
  },
  {
   "cell_type": "code",
   "execution_count": null,
   "metadata": {},
   "outputs": [],
   "source": []
  }
 ],
 "metadata": {
  "kernelspec": {
   "display_name": "Python 3 (ipykernel)",
   "language": "python",
   "name": "python3"
  },
  "language_info": {
   "codemirror_mode": {
    "name": "ipython",
    "version": 3
   },
   "file_extension": ".py",
   "mimetype": "text/x-python",
   "name": "python",
   "nbconvert_exporter": "python",
   "pygments_lexer": "ipython3",
   "version": "3.7.2"
  }
 },
 "nbformat": 4,
 "nbformat_minor": 2
}
